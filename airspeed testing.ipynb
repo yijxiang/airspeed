{
 "cells": [
  {
   "cell_type": "markdown",
   "metadata": {},
   "source": [
    "#### 几个参考链接\n",
    "\n",
    "* https://velocity.apache.org/engine/1.7/user-guide.html#what-is-velocity\n",
    "* https://blogs.cisco.com/developer/using-velocity-to-create-plug-and-play-templates-in-dna-center-part-4\n",
    "* https://github.com/purcell/airspeed/\n",
    "* https://github.com/cisco-en-programmability/dnacentersdk\n",
    "* https://thisbridgeistheroot.com/blog/dna-center-advanced-scripting\n",
    "\n",
    "* https://guides.github.com/features/mastering-markdown/\n",
    "\n",
    "#### 如何使用airspeed，也就是如何更好地使用DNA center template"
   ]
  },
  {
   "cell_type": "code",
   "execution_count": 2,
   "metadata": {},
   "outputs": [],
   "source": [
    "import airspeed"
   ]
  },
  {
   "cell_type": "code",
   "execution_count": 24,
   "metadata": {},
   "outputs": [
    {
     "name": "stdout",
     "output_type": "stream",
     "text": [
      "\n",
      "hostname switch1\n",
      "\n"
     ]
    }
   ],
   "source": [
    "# 使用set在模板中直接赋值\n",
    "# 描述行使用##\n",
    "t = airspeed.Template(\"\"\"\n",
    "## one line comments only 提示行，程序不运行\n",
    "\n",
    "#*\n",
    "  多行描述方法，本段也不运行\n",
    "*#\n",
    "\n",
    "#set ($hostname = \"switch1\")\n",
    "hostname $hostname\n",
    "\"\"\")\n",
    "\n",
    "print(t.merge({}))\n",
    "# {} 空表示不需要数据传递"
   ]
  },
  {
   "cell_type": "code",
   "execution_count": 10,
   "metadata": {},
   "outputs": [
    {
     "name": "stdout",
     "output_type": "stream",
     "text": [
      "\n",
      "hostname switch2\n",
      "\n"
     ]
    }
   ],
   "source": [
    "# 在渲染时，赋值传递至模板，python常用这个方法\n",
    "t = airspeed.Template(\"\"\"\n",
    "\n",
    "##set ($hostname = \"switch1\")\n",
    "hostname $hostname\n",
    "\"\"\")\n",
    "\n",
    "print(t.merge({\"hostname\": \"switch2\"}))"
   ]
  },
  {
   "cell_type": "code",
   "execution_count": 13,
   "metadata": {},
   "outputs": [
    {
     "name": "stdout",
     "output_type": "stream",
     "text": [
      "\n",
      "hostname $hostnameshanghai\n",
      "hostname switch2shanghai\n",
      "\n"
     ]
    }
   ],
   "source": [
    "# 变量范围需要标记 Formal Notation\n",
    "t = airspeed.Template(\"\"\"\n",
    "\n",
    "##set ($hostname = \"switch1\")\n",
    "hostname $hostnameshanghai\n",
    "hostname ${hostname}shanghai\n",
    "\"\"\")\n",
    "\n",
    "print(t.merge({\"hostname\": \"switch2\"}))"
   ]
  },
  {
   "cell_type": "code",
   "execution_count": 18,
   "metadata": {},
   "outputs": [
    {
     "name": "stdout",
     "output_type": "stream",
     "text": [
      "\n",
      "\n",
      " ip helper-address 10.1.1.100\n",
      "\n",
      " ip helper-address 10.1.1.101\n",
      "\n",
      " ip helper-address 10.1.2.100\n",
      "\n",
      " ip helper-address 10.1.2.101\n",
      "\n"
     ]
    }
   ],
   "source": [
    "# array， python中就是list\n",
    "t = airspeed.Template(\"\"\"\n",
    "#set ($DHCPAddresses = [\"10.1.1.100\", \"10.1.1.101\", \"10.1.2.100\", \"10.1.2.101\"])\n",
    "#foreach ($address in $DHCPAddresses)\n",
    " ip helper-address $address\n",
    "#end\n",
    "\"\"\")\n",
    "\n",
    "print(t.merge({}))"
   ]
  },
  {
   "cell_type": "code",
   "execution_count": 23,
   "metadata": {},
   "outputs": [
    {
     "name": "stdout",
     "output_type": "stream",
     "text": [
      "\n",
      "\n",
      " ip helper-address 10.1.1.100\n",
      "\n",
      " ip helper-address 10.1.1.101\n",
      "\n",
      " ip helper-address 10.1.2.100\n",
      "\n",
      " ip helper-address 10.1.2.101\n",
      "\n"
     ]
    }
   ],
   "source": [
    "# array， python中就是list，变量传递给模板\n",
    "t1 = airspeed.Template(\"\"\"\n",
    "#foreach ($address in $DHCPAddresses)\n",
    " ip helper-address $address\n",
    "#end\n",
    "\"\"\")\n",
    "\n",
    "dhcp_list = [\"10.1.1.100\", \"10.1.1.101\", \"10.1.2.100\", \"10.1.2.101\"]\n",
    "print(t1.merge({\"DHCPAddresses\": dhcp_list}))"
   ]
  },
  {
   "cell_type": "code",
   "execution_count": 27,
   "metadata": {},
   "outputs": [
    {
     "name": "stdout",
     "output_type": "stream",
     "text": [
      "\n",
      "\n",
      "interface range GigabitEthernet1/0/1-48\n",
      " description User Port\n",
      " switchport mode access\n",
      " switchport access vlan 10\n",
      "!\n",
      "\n",
      "interface range GigabitEthernet2/0/1-48\n",
      " description User Port\n",
      " switchport mode access\n",
      " switchport access vlan 10\n",
      "!\n",
      "\n",
      "interface range GigabitEthernet3/0/1-48\n",
      " description User Port\n",
      " switchport mode access\n",
      " switchport access vlan 10\n",
      "!\n",
      "\n"
     ]
    }
   ],
   "source": [
    "# foreach 端口循环，数字表达式\n",
    "t = airspeed.Template(\"\"\"\n",
    "#set ($stack = 3)\n",
    "#foreach ($switch in [1..$stack])\n",
    "interface range GigabitEthernet$switch/0/1-48\n",
    " description User Port\n",
    " switchport mode access\n",
    " switchport access vlan 10\n",
    "!\n",
    "#end\n",
    "\"\"\")\n",
    "\n",
    "print(t.merge({}))"
   ]
  },
  {
   "cell_type": "code",
   "execution_count": 29,
   "metadata": {},
   "outputs": [
    {
     "name": "stdout",
     "output_type": "stream",
     "text": [
      "\n",
      "\n",
      "vlan 100\n",
      " name Users_10.1.1.1\n",
      "interface vlan 100\n",
      " ip address 10.1.1.1 255.255.255.0\n",
      "\n",
      "vlan 101\n",
      " name Users_10.1.2.1\n",
      "interface vlan 101\n",
      " ip address 10.1.2.1 255.255.255.0\n",
      "\n",
      "vlan 102\n",
      " name Users_10.1.3.1\n",
      "interface vlan 102\n",
      " ip address 10.1.3.1 255.255.255.0\n",
      "\n",
      "vlan 103\n",
      " name Users_10.1.4.1\n",
      "interface vlan 103\n",
      " ip address 10.1.4.1 255.255.255.0\n",
      "\n"
     ]
    }
   ],
   "source": [
    "# foreach list中序号作为变量赋值\n",
    "t = airspeed.Template(\"\"\"\n",
    "#set ($subnets = [\"10.1.1.1\", \"10.1.2.1\", \"10.1.3.1\", \"10.1.4.1\"])\n",
    "#foreach ($address in $subnets)\n",
    "vlan 10$foreach.index\n",
    " name Users_$address\n",
    "interface vlan 10$foreach.index\n",
    " ip address $address 255.255.255.0\n",
    "#end\n",
    "\"\"\")\n",
    "\n",
    "print(t.merge({}))"
   ]
  },
  {
   "cell_type": "code",
   "execution_count": 39,
   "metadata": {},
   "outputs": [
    {
     "name": "stdout",
     "output_type": "stream",
     "text": [
      "\n",
      "\n",
      "interface TenGigabitEthernet1/0/8\n",
      " switchport\n",
      " switchport mode trunk\n",
      " switchport trunk allowed vlan 100-399\n",
      " switchport trunk native vlan 100\n",
      " storm-control broadcast level .4\n",
      " channel-group 1 mode active \n",
      "\n",
      "\n",
      "interface TenGigabitEthernet1/0/9\n",
      " switchport\n",
      " switchport mode trunk\n",
      " switchport trunk allowed vlan 100-399\n",
      " switchport trunk native vlan 100\n",
      " storm-control broadcast level .4\n",
      " channel-group 1 mode active \n",
      "\n",
      "\n"
     ]
    }
   ],
   "source": [
    "# macro 重复块使用\n",
    "t = airspeed.Template(\"\"\"\n",
    "#macro(distribution_interface)\n",
    " switchport\n",
    " switchport mode trunk\n",
    " switchport trunk allowed vlan 100-399\n",
    " switchport trunk native vlan 100\n",
    " storm-control broadcast level .4\n",
    " channel-group 1 mode active \n",
    "#end\n",
    "\n",
    "interface TenGigabitEthernet1/0/8\n",
    "#distribution_interface()\n",
    "\n",
    "interface TenGigabitEthernet1/0/9\n",
    "#distribution_interface()\n",
    "\"\"\")\n",
    "\n",
    "print(t.merge({}))"
   ]
  },
  {
   "cell_type": "code",
   "execution_count": 40,
   "metadata": {},
   "outputs": [
    {
     "name": "stdout",
     "output_type": "stream",
     "text": [
      "\n",
      "\n",
      "interface gigabitethernet1/0/1\n",
      " switchport mode access\n",
      " switchport access vlan 10\n",
      " spanning-tree portfast\n",
      " spanning-tree bpduguard enable\n",
      "\n",
      "\n",
      "\n",
      "interface gigabitethernet1/0/2\n",
      " switchport mode access\n",
      " switchport access vlan 10\n",
      " spanning-tree portfast\n",
      " spanning-tree bpduguard enable\n",
      "\n",
      "\n",
      "\n"
     ]
    }
   ],
   "source": [
    "# macro 重复块使用中，使用变量赋值\n",
    "t = airspeed.Template(\"\"\"\n",
    "#macro(access_interface $vlan)\n",
    " switchport mode access\n",
    " switchport access vlan $vlan\n",
    " spanning-tree portfast\n",
    " spanning-tree bpduguard enable\n",
    "#end\n",
    "\n",
    "interface gigabitethernet1/0/1\n",
    "#access_interface(10)\n",
    "\n",
    "\n",
    "interface gigabitethernet1/0/2\n",
    "#access_interface(10)\n",
    "\n",
    "\"\"\")\n",
    "\n",
    "print(t.merge({}))"
   ]
  },
  {
   "cell_type": "code",
   "execution_count": 43,
   "metadata": {},
   "outputs": [
    {
     "name": "stdout",
     "output_type": "stream",
     "text": [
      "\n",
      "interface range TenGigabitEthernet1/1/8,TenGigabitEthernet2/1/8\n",
      " Description Uplink to Distribution Switch \n",
      " switchport mode trunk \n",
      " switchport trunk allowed vlan 100-200\n",
      " channel-group 1 mode active\n",
      "\n"
     ]
    }
   ],
   "source": [
    "# If else end\n",
    "t = airspeed.Template(\"\"\"\n",
    "#set ($stack = 4)\n",
    "#if( $stack > 1 )\n",
    "interface range TenGigabitEthernet1/1/8,TenGigabitEthernet2/1/8\n",
    "#else\n",
    "interface range TenGigabitEthernet1/1/7-8\n",
    "#end \n",
    " Description Uplink to Distribution Switch \n",
    " switchport mode trunk \n",
    " switchport trunk allowed vlan 100-200\n",
    " channel-group 1 mode active\n",
    "\"\"\")\n",
    "\n",
    "print(t.merge({}))"
   ]
  },
  {
   "cell_type": "code",
   "execution_count": 50,
   "metadata": {},
   "outputs": [
    {
     "name": "stdout",
     "output_type": "stream",
     "text": [
      "\n",
      "\n",
      "username admin privilege 15 algorithm-type scrypt secret cisco123\n",
      "\n",
      "username superuser privilege 15 algorithm-type scrypt secret password123\n",
      "\n"
     ]
    }
   ],
   "source": [
    "# FUNction\n",
    "t = airspeed.Template(\"\"\"\n",
    "#set ($usernamepws = [\"admin/cisco123\", \"superuser/password123\"])\n",
    "#foreach ($user in $usernamepws)\n",
    "#set ($split = $user.split(\"/\"))\n",
    "username $split[0] privilege 15 algorithm-type scrypt secret $split[1]\n",
    "#end\n",
    "\"\"\")\n",
    "\n",
    "print(t.merge({}))"
   ]
  },
  {
   "cell_type": "code",
   "execution_count": 49,
   "metadata": {},
   "outputs": [
    {
     "name": "stdout",
     "output_type": "stream",
     "text": [
      "\n",
      "interface range GigabitEthernet1/0/45-48\n",
      " description Access Point\n",
      " switchport mode access\n",
      " switchport access vlan 20\n",
      "\n"
     ]
    }
   ],
   "source": [
    "# 计算方法\n",
    "t = airspeed.Template(\"\"\"\n",
    "#set( $APstart = 49 - $APinterfaces )\n",
    "interface range GigabitEthernet1/0/$APstart-48\n",
    " description Access Point\n",
    " switchport mode access\n",
    " switchport access vlan 20\n",
    "\"\"\")\n",
    "\n",
    "print(t.merge({\"APinterfaces\": 4}))"
   ]
  },
  {
   "cell_type": "code",
   "execution_count": null,
   "metadata": {},
   "outputs": [],
   "source": []
  },
  {
   "cell_type": "code",
   "execution_count": null,
   "metadata": {},
   "outputs": [],
   "source": []
  },
  {
   "cell_type": "code",
   "execution_count": null,
   "metadata": {},
   "outputs": [],
   "source": []
  }
 ],
 "metadata": {
  "kernelspec": {
   "display_name": "Python 3",
   "language": "python",
   "name": "python3"
  },
  "language_info": {
   "codemirror_mode": {
    "name": "ipython",
    "version": 3
   },
   "file_extension": ".py",
   "mimetype": "text/x-python",
   "name": "python",
   "nbconvert_exporter": "python",
   "pygments_lexer": "ipython3",
   "version": "3.8.2"
  }
 },
 "nbformat": 4,
 "nbformat_minor": 4
}
